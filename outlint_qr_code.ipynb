{
 "cells": [
  {
   "cell_type": "code",
   "execution_count": 2,
   "metadata": {},
   "outputs": [],
   "source": [
    "import qrcode \n",
    "\n",
    "img = qrcode.make(\"Sam Mesic\")\n"
   ]
  },
  {
   "cell_type": "markdown",
   "metadata": {},
   "source": [
    "<center>Going to create a class called (qr)</center>\n",
    "\n",
    "- We are going to pass the variable data to it. ATM as we have nothing else to send."
   ]
  },
  {
   "cell_type": "code",
   "execution_count": 27,
   "metadata": {},
   "outputs": [],
   "source": [
    "class qr:\n",
    "    def __init__(self, data):\n",
    "        self.data = data\n",
    "        \n",
    "\n",
    "    def make_qr(self):\n",
    "        img = qrcode.make(self.data)\n",
    "        type(img)\n",
    "        # add file name function\n",
    "        img.save(\"test.png\")\n",
    "        print(self.data)\n",
    "        \n",
    "    def inp(self):\n",
    "        # inp is going get the user input \n",
    "        # it does not matter what kind of input \n",
    "        # but as for now it will be string txt only\n",
    "        # i might not need this going to come back to it in a few \n",
    "        pass\n",
    "    \n",
    "\n"
   ]
  },
  {
   "cell_type": "code",
   "execution_count": 31,
   "metadata": {},
   "outputs": [
    {
     "name": "stdout",
     "output_type": "stream",
     "text": [
      "test\n",
      "Sam\n"
     ]
    }
   ],
   "source": [
    "code = qr(\"Sam\")\n",
    "#qr(\"test\").make_qr()\n",
    "code.make_qr()"
   ]
  },
  {
   "cell_type": "markdown",
   "metadata": {},
   "source": [
    "- Variable \"code\" calls the class qr\n",
    "\n",
    "- Then call the make_qr() function of the class "
   ]
  },
  {
   "cell_type": "code",
   "execution_count": 65,
   "metadata": {},
   "outputs": [],
   "source": [
    "class qr:\n",
    "    def __init__(self, data):\n",
    "        self.data = data\n",
    "        \n",
    "    def fname(self):\n",
    "        rip = self.data.split()\n",
    "        \n",
    "       \n",
    "        # going to need a loop at some point to handle the indices \n",
    "        return rip[0] + rip[1]+ \".png\"\n",
    "    \n",
    "    def generate_qr(self):\n",
    "        qr = qrcode.QRCode(\n",
    "            version = 1,\n",
    "            error_correction = qrcode.constants.ERROR_CORRECT_L,\n",
    "            box_size = 10, \n",
    "            border = 4,\n",
    "        )\n",
    "        qr.add_data(self.data)\n",
    "        qr.make(fit = True)\n",
    "        img = qr.make_image(fill_color=\"black\", back_color=\"white\")\n",
    "        name = self.fname()\n",
    "        img.save(name)\n",
    "        return img"
   ]
  },
  {
   "cell_type": "code",
   "execution_count": 35,
   "metadata": {},
   "outputs": [
    {
     "name": "stdout",
     "output_type": "stream",
     "text": [
      "SamMesic.png\n",
      "Sam Mesic\n"
     ]
    }
   ],
   "source": [
    "qr(\"Sam Mesic\").fname()\n",
    "a = \"Sam Mesic\"\n",
    "a = a.strip()\n",
    "print(a)"
   ]
  },
  {
   "cell_type": "code",
   "execution_count": 47,
   "metadata": {},
   "outputs": [
    {
     "name": "stdout",
     "output_type": "stream",
     "text": [
      "Sam Mesic\n"
     ]
    }
   ],
   "source": [
    "qr(\"Sam Mesic\").make_qr() # code works Half of the Qr Gen is working "
   ]
  },
  {
   "cell_type": "code",
   "execution_count": 67,
   "metadata": {},
   "outputs": [
    {
     "data": {
      "image/png": "[encoded data removed]",
      "text/plain": [
       "<qrcode.image.pil.PilImage at 0x224e251c520>"
      ]
     },
     "execution_count": 67,
     "metadata": {},
     "output_type": "execute_result"
    }
   ],
   "source": [
    "qr(\"Sam Mesic\").generate_qr()"
   ]
  },
  {
   "cell_type": "code",
   "execution_count": 6,
   "metadata": {},
   "outputs": [],
   "source": [
    "class qr:\n",
    "    def __init__(self, data):\n",
    "        self.data = data\n",
    "\n",
    "    def usr_input():\n",
    "        pass\n",
    "\n",
    "    def fname(self):\n",
    "        a = ''\n",
    "        rip = self.data.split()\n",
    "        for i in range(len(rip)):\n",
    "            a = a + rip[i]\n",
    "        a = a + '.png'\n",
    "        return a\n",
    "    \n",
    "    def generate_qr(self, save):\n",
    "        qr = qrcode.QRCode(\n",
    "            version = 1,\n",
    "            error_correction = qrcode.constants.ERROR_CORRECT_L,\n",
    "            box_size = 10, \n",
    "            border = 4,\n",
    "        )\n",
    "        qr.add_data(self.data)\n",
    "        qr.make(fit = True)\n",
    "        img = qr.make_image(fill_color=\"black\", back_color=\"white\")\n",
    "        name = self.fname()\n",
    "        if save is True:\n",
    "            img.save(name)\n",
    "        return img"
   ]
  },
  {
   "cell_type": "code",
   "execution_count": 76,
   "metadata": {},
   "outputs": [
    {
     "data": {
      "image/png": "[encoded data removed]",
      "text/plain": [
       "<qrcode.image.pil.PilImage at 0x224e24f2b30>"
      ]
     },
     "execution_count": 76,
     "metadata": {},
     "output_type": "execute_result"
    }
   ],
   "source": [
    "qr(\"Sam Mesic III\").generate_qr(False)"
   ]
  },
  {
   "cell_type": "code",
   "execution_count": 8,
   "metadata": {},
   "outputs": [
    {
     "data": {
      "image/png": "[encoded data removed]",
      "text/plain": [
       "<qrcode.image.pil.PilImage at 0x2b4fc7903a0>"
      ]
     },
     "execution_count": 8,
     "metadata": {},
     "output_type": "execute_result"
    }
   ],
   "source": [
    "import qrcode\n",
    "class qr:\n",
    "    def __init__(self, data):\n",
    "        self.data = data\n",
    "        self.a = ''\n",
    "\n",
    "    def fname(self):\n",
    "        a = self.a\n",
    "        rip = self.data.split()\n",
    "        for i in range(len(rip)):\n",
    "            a = a + rip[i]\n",
    "        a = a + '.png'\n",
    "        return a\n",
    "    \n",
    "    def generate_qr(self, save):\n",
    "        qr = qrcode.QRCode(\n",
    "            version = 1,\n",
    "            error_correction = qrcode.constants.ERROR_CORRECT_L,\n",
    "            box_size = 10, \n",
    "            border = 4,\n",
    "        )\n",
    "        qr.add_data(self.data)\n",
    "        qr.make(fit = True)\n",
    "        img = qr.make_image(fill_color=\"black\", back_color=\"white\")\n",
    "        name = self.fname()\n",
    "        if save.strip() == 'True' or save.strip() == \"T\":\n",
    "            img.save(name)\n",
    "            print(\"Saving...\")\n",
    "        \n",
    "        \n",
    "        return img\n",
    "\n",
    "\n",
    "usr = input(\"Please Enter the QR code Value, follwed True or False:  \")\n",
    "b = usr.split(',')\n",
    "\n",
    "qr(b[0]).generate_qr(b[1])"
   ]
  }
 ],
 "metadata": {
  "kernelspec": {
   "display_name": "Python 3.10.6 ('.venv': venv)",
   "language": "python",
   "name": "python3"
  },
  "language_info": {
   "codemirror_mode": {
    "name": "ipython",
    "version": 3
   },
   "file_extension": ".py",
   "mimetype": "text/x-python",
   "name": "python",
   "nbconvert_exporter": "python",
   "pygments_lexer": "ipython3",
   "version": "3.10.6"
  },
  "orig_nbformat": 4,
  "vscode": {
   "interpreter": {
    "hash": "7b149023cb94d050964fdd7ce1a272777a6c64f6336ccc815a9eb5f32a944546"
   }
  }
 },
 "nbformat": 4,
 "nbformat_minor": 2
}
